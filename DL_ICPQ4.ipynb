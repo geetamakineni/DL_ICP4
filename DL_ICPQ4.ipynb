{
  "nbformat": 4,
  "nbformat_minor": 0,
  "metadata": {
    "colab": {
      "name": "nikhitha.ipynb",
      "provenance": [],
      "machine_shape": "hm"
    },
    "kernelspec": {
      "name": "python3",
      "display_name": "Python 3"
    }
  },
  "cells": [
    {
      "cell_type": "code",
      "metadata": {
        "id": "-xOVM7kFq0uL",
        "colab_type": "code",
        "outputId": "ef795a27-6964-4885-e4e7-60bb396db3db",
        "colab": {
          "base_uri": "https://localhost:8080/",
          "height": 134
        }
      },
      "source": [
        "%tensorflow_version 1.15\n",
        "import tensorflow as tf\n",
        "from keras import Sequential\n",
        "from keras.datasets import mnist\n",
        "import numpy as np\n",
        "from keras.layers import Dense\n",
        "from keras.utils import to_categorical\n",
        "from keras.preprocessing.image import ImageDataGenerator, load_img\n",
        "import os\n",
        "import matplotlib.pyplot as plt\n",
        "from keras.layers import Dense, Flatten, Dropout, Input, BatchNormalization\n",
        "from keras.constraints import maxnorm\n",
        "from keras.models import Model\n",
        "from keras.optimizers import SGD, Adam\n",
        "from keras.layers.convolutional import Conv2D, MaxPooling2D\n",
        "from keras.utils import np_utils\n",
        "from keras import backend as K\n",
        "K.common.image_dim_ordering()"
      ],
      "execution_count": 1,
      "outputs": [
        {
          "output_type": "stream",
          "text": [
            "`%tensorflow_version` only switches the major version: 1.x or 2.x.\n",
            "You set: `1.15`. This will be interpreted as: `1.x`.\n",
            "\n",
            "\n",
            "TensorFlow 1.x selected.\n"
          ],
          "name": "stdout"
        },
        {
          "output_type": "stream",
          "text": [
            "Using TensorFlow backend.\n"
          ],
          "name": "stderr"
        },
        {
          "output_type": "execute_result",
          "data": {
            "text/plain": [
              "'tf'"
            ]
          },
          "metadata": {
            "tags": []
          },
          "execution_count": 1
        }
      ]
    },
    {
      "cell_type": "code",
      "metadata": {
        "id": "zEHhM7rq9vDb",
        "colab_type": "code",
        "colab": {
          "base_uri": "https://localhost:8080/",
          "height": 34
        },
        "outputId": "f65f06ef-07b4-4910-a96d-a4d8158ef796"
      },
      "source": [
        "from google.colab import drive\n",
        "drive.mount('/content/drive')"
      ],
      "execution_count": 2,
      "outputs": [
        {
          "output_type": "stream",
          "text": [
            "Drive already mounted at /content/drive; to attempt to forcibly remount, call drive.mount(\"/content/drive\", force_remount=True).\n"
          ],
          "name": "stdout"
        }
      ]
    },
    {
      "cell_type": "code",
      "metadata": {
        "id": "VWbKDaXmts2p",
        "colab_type": "code",
        "colab": {}
      },
      "source": [
        "from PIL import Image\n",
        "import glob\n",
        "import cv2\n",
        "train_images=[]\n",
        "for filename in glob.glob('/content/drive/My Drive/Colab Notebooks/v_data/train/cars/*.jpg'):\n",
        "    img_normal = cv2.imread(filename)\n",
        "    output = cv2.resize(img_normal, (50,50))\n",
        "    train_images.append([output,0])"
      ],
      "execution_count": 0,
      "outputs": []
    },
    {
      "cell_type": "code",
      "metadata": {
        "id": "2WpHZ8nKxobx",
        "colab_type": "code",
        "colab": {}
      },
      "source": [
        "from PIL import Image\n",
        "import glob\n",
        "import cv2\n",
        "for filename in glob.glob('/content/drive/My Drive/Colab Notebooks/v_data/train/planes/*.jpg'):\n",
        "    img_normal = cv2.imread(filename)\n",
        "    output = cv2.resize(img_normal,(50,50))\n",
        "    train_images.append([output,1])"
      ],
      "execution_count": 0,
      "outputs": []
    },
    {
      "cell_type": "code",
      "metadata": {
        "id": "UNVAufGmzy5r",
        "colab_type": "code",
        "colab": {}
      },
      "source": [
        "import random\n",
        "random.shuffle(train_images)"
      ],
      "execution_count": 0,
      "outputs": []
    },
    {
      "cell_type": "code",
      "metadata": {
        "id": "I4DZ9Lvx0LuS",
        "colab_type": "code",
        "colab": {}
      },
      "source": [
        "x_train=[]\n",
        "y_train=[]\n",
        "for im,label in train_images:\n",
        "  x_train.append(im)\n",
        "  y_train.append(label)"
      ],
      "execution_count": 0,
      "outputs": []
    },
    {
      "cell_type": "code",
      "metadata": {
        "id": "s2wlT_vg1xKD",
        "colab_type": "code",
        "colab": {}
      },
      "source": [
        "x_train=np.array(x_train).reshape(-1,50,50,3)"
      ],
      "execution_count": 0,
      "outputs": []
    },
    {
      "cell_type": "code",
      "metadata": {
        "id": "dyiRSjBhoi4P",
        "colab_type": "code",
        "outputId": "0478cf4b-a5f9-4183-f873-a5cca683ff21",
        "colab": {
          "base_uri": "https://localhost:8080/",
          "height": 840
        }
      },
      "source": [
        "train_images[0]"
      ],
      "execution_count": 8,
      "outputs": [
        {
          "output_type": "execute_result",
          "data": {
            "text/plain": [
              "[array([[[253, 253, 253],\n",
              "         [253, 253, 253],\n",
              "         [253, 253, 253],\n",
              "         ...,\n",
              "         [253, 253, 253],\n",
              "         [253, 253, 253],\n",
              "         [254, 254, 254]],\n",
              " \n",
              "        [[255, 255, 255],\n",
              "         [255, 255, 255],\n",
              "         [255, 255, 255],\n",
              "         ...,\n",
              "         [255, 255, 255],\n",
              "         [254, 254, 254],\n",
              "         [255, 255, 255]],\n",
              " \n",
              "        [[253, 253, 253],\n",
              "         [253, 253, 253],\n",
              "         [253, 253, 253],\n",
              "         ...,\n",
              "         [253, 253, 253],\n",
              "         [252, 252, 252],\n",
              "         [254, 254, 254]],\n",
              " \n",
              "        ...,\n",
              " \n",
              "        [[253, 253, 253],\n",
              "         [253, 253, 253],\n",
              "         [253, 253, 253],\n",
              "         ...,\n",
              "         [253, 253, 253],\n",
              "         [253, 253, 253],\n",
              "         [253, 253, 253]],\n",
              " \n",
              "        [[253, 253, 253],\n",
              "         [253, 253, 253],\n",
              "         [253, 253, 253],\n",
              "         ...,\n",
              "         [253, 253, 253],\n",
              "         [253, 253, 253],\n",
              "         [253, 253, 253]],\n",
              " \n",
              "        [[253, 253, 253],\n",
              "         [253, 253, 253],\n",
              "         [253, 253, 253],\n",
              "         ...,\n",
              "         [253, 253, 253],\n",
              "         [253, 253, 253],\n",
              "         [253, 253, 253]]], dtype=uint8), 1]"
            ]
          },
          "metadata": {
            "tags": []
          },
          "execution_count": 8
        }
      ]
    },
    {
      "cell_type": "markdown",
      "metadata": {
        "id": "c7Ax05PxoSEU",
        "colab_type": "text"
      },
      "source": [
        ""
      ]
    },
    {
      "cell_type": "code",
      "metadata": {
        "id": "1IlUMv9PoStq",
        "colab_type": "code",
        "outputId": "30bf58ae-f0ee-4c0d-b9d1-dd7aaf0fe236",
        "colab": {
          "base_uri": "https://localhost:8080/",
          "height": 840
        }
      },
      "source": [
        "type(x_train)\n",
        "x_train.shape\n",
        "x_train[0]"
      ],
      "execution_count": 9,
      "outputs": [
        {
          "output_type": "execute_result",
          "data": {
            "text/plain": [
              "array([[[253, 253, 253],\n",
              "        [253, 253, 253],\n",
              "        [253, 253, 253],\n",
              "        ...,\n",
              "        [253, 253, 253],\n",
              "        [253, 253, 253],\n",
              "        [254, 254, 254]],\n",
              "\n",
              "       [[255, 255, 255],\n",
              "        [255, 255, 255],\n",
              "        [255, 255, 255],\n",
              "        ...,\n",
              "        [255, 255, 255],\n",
              "        [254, 254, 254],\n",
              "        [255, 255, 255]],\n",
              "\n",
              "       [[253, 253, 253],\n",
              "        [253, 253, 253],\n",
              "        [253, 253, 253],\n",
              "        ...,\n",
              "        [253, 253, 253],\n",
              "        [252, 252, 252],\n",
              "        [254, 254, 254]],\n",
              "\n",
              "       ...,\n",
              "\n",
              "       [[253, 253, 253],\n",
              "        [253, 253, 253],\n",
              "        [253, 253, 253],\n",
              "        ...,\n",
              "        [253, 253, 253],\n",
              "        [253, 253, 253],\n",
              "        [253, 253, 253]],\n",
              "\n",
              "       [[253, 253, 253],\n",
              "        [253, 253, 253],\n",
              "        [253, 253, 253],\n",
              "        ...,\n",
              "        [253, 253, 253],\n",
              "        [253, 253, 253],\n",
              "        [253, 253, 253]],\n",
              "\n",
              "       [[253, 253, 253],\n",
              "        [253, 253, 253],\n",
              "        [253, 253, 253],\n",
              "        ...,\n",
              "        [253, 253, 253],\n",
              "        [253, 253, 253],\n",
              "        [253, 253, 253]]], dtype=uint8)"
            ]
          },
          "metadata": {
            "tags": []
          },
          "execution_count": 9
        }
      ]
    },
    {
      "cell_type": "code",
      "metadata": {
        "id": "_C77AIUF2B5k",
        "colab_type": "code",
        "outputId": "2ac932f1-5907-4ffb-ebac-f674023cb5df",
        "colab": {
          "base_uri": "https://localhost:8080/",
          "height": 281
        }
      },
      "source": [
        "import matplotlib.pyplot as plt\n",
        "plt.imshow(x_train[50,:,:])\n",
        "plt.title('Ground Truth : {}'.format(y_train[50]))\n",
        "plt.show()\n"
      ],
      "execution_count": 10,
      "outputs": [
        {
          "output_type": "display_data",
          "data": {
            "image/png": "[encoded data removed]",
            "text/plain": [
              "<Figure size 432x288 with 1 Axes>"
            ]
          },
          "metadata": {
            "tags": [],
            "needs_background": "light"
          }
        }
      ]
    },
    {
      "cell_type": "code",
      "metadata": {
        "id": "C6zYDe4y3AN8",
        "colab_type": "code",
        "colab": {}
      },
      "source": [
        "test_images=[]\n",
        "for filename in glob.glob('/content/drive/My Drive/Colab Notebooks/v_data/test/cars/*.jpg'): \n",
        "    img_normal = cv2.imread(filename)\n",
        "    output = cv2.resize(img_normal, (50,50))\n",
        "    test_images.append([output,0])"
      ],
      "execution_count": 0,
      "outputs": []
    },
    {
      "cell_type": "code",
      "metadata": {
        "id": "t2Qi0yBR3b01",
        "colab_type": "code",
        "colab": {}
      },
      "source": [
        "for filename in glob.glob('/content/drive/My Drive/Colab Notebooks/v_data/test/planes/*.jpg'): \n",
        "    img_normal = cv2.imread(filename)\n",
        "    #print(im.shape)\n",
        "    #print(type(im.shape))\n",
        "    output = cv2.resize(img_normal, (50,50))\n",
        "    test_images.append([output,1])"
      ],
      "execution_count": 0,
      "outputs": []
    },
    {
      "cell_type": "code",
      "metadata": {
        "id": "s-vveX1y3vzJ",
        "colab_type": "code",
        "colab": {}
      },
      "source": [
        "random.shuffle(test_images)"
      ],
      "execution_count": 0,
      "outputs": []
    },
    {
      "cell_type": "code",
      "metadata": {
        "id": "_FGl7vzE3zq4",
        "colab_type": "code",
        "colab": {}
      },
      "source": [
        "x_test=[]\n",
        "y_test=[]\n",
        "for im,label in test_images:\n",
        "  x_test.append(im)\n",
        "  y_test.append(label)"
      ],
      "execution_count": 0,
      "outputs": []
    },
    {
      "cell_type": "code",
      "metadata": {
        "id": "jOoODJ264Bao",
        "colab_type": "code",
        "colab": {}
      },
      "source": [
        "x_test=np.array(x_test).reshape(-1,50,50,3)"
      ],
      "execution_count": 0,
      "outputs": []
    },
    {
      "cell_type": "code",
      "metadata": {
        "id": "9APCK0tp4UFs",
        "colab_type": "code",
        "colab": {}
      },
      "source": [
        "x_train = x_train.astype('float32')\n",
        "x_test = x_test.astype('float32')\n",
        "x_train = x_train / 255.0\n",
        "x_test = x_test / 255.0"
      ],
      "execution_count": 0,
      "outputs": []
    },
    {
      "cell_type": "code",
      "metadata": {
        "id": "4VTcRk9m4poj",
        "colab_type": "code",
        "colab": {}
      },
      "source": [
        "y_train = np_utils.to_categorical(y_train)\n",
        "y_test = np_utils.to_categorical(y_test)\n",
        "num_classes = y_test.shape[1]"
      ],
      "execution_count": 0,
      "outputs": []
    },
    {
      "cell_type": "code",
      "metadata": {
        "id": "LnQad1Tn41ap",
        "colab_type": "code",
        "outputId": "ec570438-6cb3-41e5-eeb1-2b52a16d61e9",
        "colab": {
          "base_uri": "https://localhost:8080/",
          "height": 121
        }
      },
      "source": [
        "model = Sequential()\n",
        "model.add(Conv2D(256, (3, 3), input_shape=(x_train.shape[1:]), padding='same', activation='relu'))\n",
        "model.add(Dropout(0.5))\n",
        "model.add(Conv2D(256, (3, 3), activation='relu', padding='same'))\n",
        "model.add(MaxPooling2D(pool_size=(2, 2)))\n",
        "model.add(Dropout(0.5))\n",
        "model.add(Flatten())\n",
        "model.add(Dense(512, activation='relu', kernel_constraint=maxnorm(3)))\n",
        "model.add(Dropout(0.3))\n",
        "model.add(Dense(num_classes, activation='softmax'))"
      ],
      "execution_count": 18,
      "outputs": [
        {
          "output_type": "stream",
          "text": [
            "WARNING:tensorflow:From /tensorflow-1.15.2/python3.6/tensorflow_core/python/ops/resource_variable_ops.py:1630: calling BaseResourceVariable.__init__ (from tensorflow.python.ops.resource_variable_ops) with constraint is deprecated and will be removed in a future version.\n",
            "Instructions for updating:\n",
            "If using Keras pass *_constraint arguments to layers.\n",
            "WARNING:tensorflow:From /usr/local/lib/python3.6/dist-packages/keras/backend/tensorflow_backend.py:4070: The name tf.nn.max_pool is deprecated. Please use tf.nn.max_pool2d instead.\n",
            "\n"
          ],
          "name": "stdout"
        }
      ]
    },
    {
      "cell_type": "code",
      "metadata": {
        "id": "SugkVFcd5Bk-",
        "colab_type": "code",
        "colab": {}
      },
      "source": [
        "epochs = 20\n",
        "lrate = 0.001\n",
        "decay = lrate/epochs\n",
        "sgd = Adam(lr=lrate)\n",
        "model.compile(loss='categorical_crossentropy', optimizer=sgd, metrics=['accuracy'])"
      ],
      "execution_count": 0,
      "outputs": []
    },
    {
      "cell_type": "code",
      "metadata": {
        "id": "GHYzTeqy5N1i",
        "colab_type": "code",
        "outputId": "878de6f8-5e65-48a4-a8bc-8bfeb909c317",
        "colab": {
          "base_uri": "https://localhost:8080/",
          "height": 776
        }
      },
      "source": [
        "model.fit(x_train, y_train, validation_data=(x_test, y_test), epochs=epochs, batch_size=128)"
      ],
      "execution_count": 20,
      "outputs": [
        {
          "output_type": "stream",
          "text": [
            "WARNING:tensorflow:From /usr/local/lib/python3.6/dist-packages/keras/backend/tensorflow_backend.py:422: The name tf.global_variables is deprecated. Please use tf.compat.v1.global_variables instead.\n",
            "\n",
            "Train on 400 samples, validate on 100 samples\n",
            "Epoch 1/20\n",
            "400/400 [==============================] - 42s 104ms/step - loss: 10.1110 - accuracy: 0.4925 - val_loss: 0.6891 - val_accuracy: 0.5000\n",
            "Epoch 2/20\n",
            "400/400 [==============================] - 41s 102ms/step - loss: 0.9105 - accuracy: 0.5025 - val_loss: 0.6932 - val_accuracy: 0.5000\n",
            "Epoch 3/20\n",
            "400/400 [==============================] - 41s 102ms/step - loss: 0.6930 - accuracy: 0.5000 - val_loss: 0.6932 - val_accuracy: 0.5000\n",
            "Epoch 4/20\n",
            "400/400 [==============================] - 41s 102ms/step - loss: 0.6931 - accuracy: 0.5000 - val_loss: 0.6932 - val_accuracy: 0.5000\n",
            "Epoch 5/20\n",
            "400/400 [==============================] - 41s 102ms/step - loss: 0.6932 - accuracy: 0.5000 - val_loss: 0.6931 - val_accuracy: 0.5000\n",
            "Epoch 6/20\n",
            "400/400 [==============================] - 41s 102ms/step - loss: 0.6930 - accuracy: 0.5075 - val_loss: 0.6931 - val_accuracy: 0.5000\n",
            "Epoch 7/20\n",
            "400/400 [==============================] - 41s 102ms/step - loss: 0.6930 - accuracy: 0.5325 - val_loss: 0.6931 - val_accuracy: 0.5000\n",
            "Epoch 8/20\n",
            "400/400 [==============================] - 41s 102ms/step - loss: 0.6933 - accuracy: 0.5025 - val_loss: 0.6932 - val_accuracy: 0.5000\n",
            "Epoch 9/20\n",
            "400/400 [==============================] - 41s 102ms/step - loss: 0.6931 - accuracy: 0.5000 - val_loss: 0.6932 - val_accuracy: 0.5000\n",
            "Epoch 10/20\n",
            "400/400 [==============================] - 41s 102ms/step - loss: 0.6931 - accuracy: 0.5000 - val_loss: 0.6932 - val_accuracy: 0.5000\n",
            "Epoch 11/20\n",
            "400/400 [==============================] - 41s 102ms/step - loss: 0.6932 - accuracy: 0.5000 - val_loss: 0.6932 - val_accuracy: 0.5000\n",
            "Epoch 12/20\n",
            "400/400 [==============================] - 41s 102ms/step - loss: 0.6931 - accuracy: 0.5000 - val_loss: 0.6932 - val_accuracy: 0.5000\n",
            "Epoch 13/20\n",
            "400/400 [==============================] - 41s 102ms/step - loss: 0.6930 - accuracy: 0.5050 - val_loss: 0.6931 - val_accuracy: 0.5000\n",
            "Epoch 14/20\n",
            "400/400 [==============================] - 41s 102ms/step - loss: 0.6905 - accuracy: 0.5600 - val_loss: 0.6768 - val_accuracy: 0.7300\n",
            "Epoch 15/20\n",
            "400/400 [==============================] - 41s 102ms/step - loss: 0.6730 - accuracy: 0.5225 - val_loss: 0.6777 - val_accuracy: 0.8200\n",
            "Epoch 16/20\n",
            "400/400 [==============================] - 44s 111ms/step - loss: 0.6462 - accuracy: 0.5950 - val_loss: 0.5958 - val_accuracy: 0.6700\n",
            "Epoch 17/20\n",
            "400/400 [==============================] - 41s 102ms/step - loss: 0.5995 - accuracy: 0.6100 - val_loss: 0.5489 - val_accuracy: 0.6900\n",
            "Epoch 18/20\n",
            "400/400 [==============================] - 41s 102ms/step - loss: 0.5694 - accuracy: 0.6200 - val_loss: 0.5513 - val_accuracy: 0.7900\n",
            "Epoch 19/20\n",
            "400/400 [==============================] - 41s 102ms/step - loss: 0.5660 - accuracy: 0.7975 - val_loss: 0.5195 - val_accuracy: 0.7900\n",
            "Epoch 20/20\n",
            "400/400 [==============================] - 41s 102ms/step - loss: 0.5396 - accuracy: 0.7425 - val_loss: 0.5136 - val_accuracy: 0.8500\n"
          ],
          "name": "stdout"
        },
        {
          "output_type": "execute_result",
          "data": {
            "text/plain": [
              "<keras.callbacks.callbacks.History at 0x7f10be7f0358>"
            ]
          },
          "metadata": {
            "tags": []
          },
          "execution_count": 20
        }
      ]
    },
    {
      "cell_type": "code",
      "metadata": {
        "id": "KwQkfmYI9sjk",
        "colab_type": "code",
        "colab": {}
      },
      "source": [
        "import pickle\n",
        "with open(\"/content/drive/My Drive/Colab Notebooks/DL_ICP4/Nikhitha.pk2\",'wb') as file:\n",
        "      pickle.dump(model,file)"
      ],
      "execution_count": 0,
      "outputs": []
    },
    {
      "cell_type": "code",
      "metadata": {
        "id": "PLO8JfNiAPxq",
        "colab_type": "code",
        "colab": {}
      },
      "source": [
        "x=model.predict_classes(x_train[[50],:])"
      ],
      "execution_count": 0,
      "outputs": []
    },
    {
      "cell_type": "code",
      "metadata": {
        "id": "OcN4HBInCddD",
        "colab_type": "code",
        "colab": {
          "base_uri": "https://localhost:8080/",
          "height": 34
        },
        "outputId": "f07c4069-6253-415c-8410-4024141af665"
      },
      "source": [
        "print(x[0])"
      ],
      "execution_count": 23,
      "outputs": [
        {
          "output_type": "stream",
          "text": [
            "0\n"
          ],
          "name": "stdout"
        }
      ]
    }
  ]
}